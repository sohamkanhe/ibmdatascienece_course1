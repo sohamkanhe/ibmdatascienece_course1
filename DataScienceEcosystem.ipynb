{
  "metadata": {
    "kernelspec": {
      "name": "python",
      "display_name": "Python (Pyodide)",
      "language": "python"
    },
    "language_info": {
      "codemirror_mode": {
        "name": "python",
        "version": 3
      },
      "file_extension": ".py",
      "mimetype": "text/x-python",
      "name": "python",
      "nbconvert_exporter": "python",
      "pygments_lexer": "ipython3",
      "version": "3.8"
    }
  },
  "nbformat_minor": 4,
  "nbformat": 4,
  "cells": [
    {
      "cell_type": "markdown",
      "source": "# Data Science Tools and Ecosystem\n",
      "metadata": {}
    },
    {
      "cell_type": "markdown",
      "source": "## In this notebook, Data Science Tools and Ecosystem are summarized.",
      "metadata": {}
    },
    {
      "cell_type": "markdown",
      "source": "**Objectives:**\n\n- List popular languages for Data Science\n- Introduce common tools and IDEs used in Data Science\n- Explain key libraries and frameworks in the Data Science ecosystem\n",
      "metadata": {}
    },
    {
      "cell_type": "markdown",
      "source": "### Some of the popular languages that Data Scientists use are:\n1. PYTHON\n2. R\n3. JULIA\n4. SQL",
      "metadata": {}
    },
    {
      "cell_type": "markdown",
      "source": "Some of the commonly used libraries used by Data Scientists include:\n1. NUMPY\n2. MATPLOTLIB\n3. PANDAS\n4. PYTORCH",
      "metadata": {}
    },
    {
      "cell_type": "markdown",
      "source": "| Data Science Tools      |\n|-------------------------|\n| Jupyter Notebook        |\n| RStudio                 |\n| VS Code with Python     |\n",
      "metadata": {}
    },
    {
      "cell_type": "markdown",
      "source": "### Create a code cell to convert minutes to hours\n\nIn this code cell write an expression that converts 200 minutes into hours.\nInsert a comment line before the expression to explain the operation e.g.  This will convert 200 minutes to hours by diving by 60.\nRun the cell to evaluate the expression.Examples of Evaluating Arithmetic Expressions in Python\n\nArithmetic expressions in Python follow standard mathematical conventions. Below are a few examples of evaluating such expressions:\n\n- Addition: `2 + 3` evaluates to `5`\n- Subtraction: `5 - 1` evaluates to `4`\n- Multiplication: `4 * 6` evaluates to `24`\n- Division: `10 / 2` evaluates to `5.0` (float division)\n- Integer Division: `10 // 3` evaluates to `3` (floor division)\n- Exponentiation: `2 ** 4` evaluates to `16` (2 raised to the power of 4)\n- Modulo: `15 % 4` evaluates to `3` (remainder of the division of 15 by 4)\n",
      "metadata": {}
    },
    {
      "cell_type": "code",
      "source": "# This is a simple arithmetic expression to multiply then add integers.\nresult = (3 * 4) + 5\nprint(result)\n",
      "metadata": {
        "trusted": true
      },
      "outputs": [
        {
          "name": "stdout",
          "text": "17\n",
          "output_type": "stream"
        }
      ],
      "execution_count": 7
    },
    {
      "cell_type": "code",
      "source": "# This will convert 200 minutes to hours by dividing by 60.\nminutes = 200\nhours = minutes / 60\nprint(hours)\n\n",
      "metadata": {
        "trusted": true
      },
      "outputs": [
        {
          "name": "stdout",
          "text": "3.3333333333333335\n",
          "output_type": "stream"
        }
      ],
      "execution_count": 5
    },
    {
      "cell_type": "markdown",
      "source": "## Author\n\nSOHAM\n",
      "metadata": {}
    },
    {
      "cell_type": "code",
      "source": "",
      "metadata": {
        "trusted": true
      },
      "outputs": [],
      "execution_count": null
    }
  ]
}